{
 "cells": [
  {
   "cell_type": "code",
   "execution_count": 1,
   "metadata": {},
   "outputs": [],
   "source": [
    "import os\n",
    "import json\n",
    "import numpy as np"
   ]
  },
  {
   "cell_type": "code",
   "execution_count": 2,
   "metadata": {},
   "outputs": [],
   "source": [
    "def return_dictionary(data_loc):\n",
    "    with open(data_loc, \"r+\") as json_file:\n",
    "        data = json.load(json_file)\n",
    "    return data\n",
    "\n",
    "def from_dict_to_sorted_array(data_dict, cond=0):\n",
    "    array = []\n",
    "    dict_keys = []\n",
    "    for i in data_dict.keys():\n",
    "        dict_keys.append(int(i))\n",
    "    dict_keys.sort()\n",
    "    for key in dict_keys:\n",
    "        if cond == 1:\n",
    "            array.append(get_hands(data_dict[str(key)]))\n",
    "        else:\n",
    "            array.append(data_dict[str(key)])\n",
    "    return array\n",
    "\n",
    "def get_hands(pose):\n",
    "    hands = []\n",
    "    # 1 2 3 4 5 6 7\n",
    "    for i in range(1, 8):\n",
    "        hands.append(pose[i*2])\n",
    "        hands.append(pose[i*2 + 1])\n",
    "    return hands"
   ]
  },
  {
   "cell_type": "code",
   "execution_count": 3,
   "metadata": {},
   "outputs": [
    {
     "name": "stdout",
     "output_type": "stream",
     "text": [
      "Total (poses, audio): 1 1\n"
     ]
    }
   ],
   "source": [
    "poses_dir_path = 'dataset/poses/'\n",
    "audio_dir_path = 'dataset/audio_10mfcc/'\n",
    "#result_train_file_name = 'dataset/hands_raw_15_cherry.json'\n",
    "result_train_file_name = 'dataset/raw_13_twit.json'\n",
    "\n",
    "\n",
    "poses_files = []\n",
    "audio_files = []\n",
    "data_obj = {}\n",
    "\n",
    "for file in os.listdir(poses_dir_path):\n",
    "    if file.endswith('.json') and os.path.exists(audio_dir_path + file) and file=='raw_13_twit.json':\n",
    "        poses_files.append(poses_dir_path + file)\n",
    "        audio_files.append(audio_dir_path + file)\n",
    "print('Total (poses, audio):', len(poses_files), len(audio_files))"
   ]
  },
  {
   "cell_type": "code",
   "execution_count": 4,
   "metadata": {
    "scrolled": true
   },
   "outputs": [
    {
     "name": "stdout",
     "output_type": "stream",
     "text": [
      "0  /  1\n"
     ]
    }
   ],
   "source": [
    "for i in range(len(poses_files)):\n",
    "    print(i, ' / ', len(poses_files))\n",
    "    poses_dict_data = return_dictionary(poses_files[i])\n",
    "    audio_dict_data = return_dictionary(audio_files[i])\n",
    "    \n",
    "    poses = from_dict_to_sorted_array(poses_dict_data)\n",
    "    audio = from_dict_to_sorted_array(audio_dict_data)\n",
    "    \n",
    "    data_obj[i] = (audio, poses)\n",
    "\n",
    "with open(result_train_file_name, 'w') as j_f:\n",
    "    j_f.write(json.dumps(data_obj))    "
   ]
  },
  {
   "cell_type": "code",
   "execution_count": 5,
   "metadata": {},
   "outputs": [
    {
     "name": "stdout",
     "output_type": "stream",
     "text": [
      "--->\n",
      "\n",
      "Audio (3359, 10) Keys (3359, 28)\n"
     ]
    }
   ],
   "source": [
    "for _, (audio_feats, keyps) in data_obj.items():\n",
    "    print('--->\\n')\n",
    "\n",
    "    audio_feats = np.array(audio_feats)\n",
    "    keyps = np.array(keyps)\n",
    "    print('Audio', audio_feats.shape, 'Keys', keyps.shape)"
   ]
  },
  {
   "cell_type": "code",
   "execution_count": null,
   "metadata": {},
   "outputs": [],
   "source": []
  },
  {
   "cell_type": "code",
   "execution_count": null,
   "metadata": {},
   "outputs": [],
   "source": []
  },
  {
   "cell_type": "code",
   "execution_count": null,
   "metadata": {},
   "outputs": [],
   "source": []
  },
  {
   "cell_type": "code",
   "execution_count": null,
   "metadata": {},
   "outputs": [],
   "source": []
  },
  {
   "cell_type": "code",
   "execution_count": null,
   "metadata": {},
   "outputs": [],
   "source": []
  },
  {
   "cell_type": "code",
   "execution_count": null,
   "metadata": {},
   "outputs": [],
   "source": []
  }
 ],
 "metadata": {
  "kernelspec": {
   "display_name": "Python 3",
   "language": "python",
   "name": "python3"
  },
  "language_info": {
   "codemirror_mode": {
    "name": "ipython",
    "version": 3
   },
   "file_extension": ".py",
   "mimetype": "text/x-python",
   "name": "python",
   "nbconvert_exporter": "python",
   "pygments_lexer": "ipython3",
   "version": "3.6.8"
  }
 },
 "nbformat": 4,
 "nbformat_minor": 2
}
